{
 "cells": [
  {
   "cell_type": "markdown",
   "id": "302aea66",
   "metadata": {},
   "source": [
    "# Room Occupancy Detection."
   ]
  },
  {
   "cell_type": "markdown",
   "id": "9cb69605",
   "metadata": {},
   "source": [
    "Room occupancy classification (ROC) is a type of time series classification problem where the goal is to predict\n",
    "whether a room is occupied or not based on a sequence of time series data, such as temperature and humidity. \n",
    "ROC is a common problem in smart buildings, where it can be used to control various systems, such as \n",
    "the HVAC system, lighting system, and security system."
   ]
  },
  {
   "cell_type": "code",
   "execution_count": 60,
   "id": "e5173e7f",
   "metadata": {},
   "outputs": [],
   "source": [
    "import pandas as pd\n",
    "import numpy as np\n",
    "import matplotlib.pyplot as plt\n",
    "import seaborn as sns"
   ]
  },
  {
   "cell_type": "markdown",
   "id": "3f2c6f6e",
   "metadata": {},
   "source": [
    "   "
   ]
  },
  {
   "cell_type": "markdown",
   "id": "5a294e61",
   "metadata": {},
   "source": [
    "   "
   ]
  },
  {
   "cell_type": "markdown",
   "id": "3b5e34d0",
   "metadata": {},
   "source": [
    "Loading two datasets and combining into one."
   ]
  },
  {
   "cell_type": "code",
   "execution_count": 61,
   "id": "44525242",
   "metadata": {},
   "outputs": [],
   "source": [
    "#loading the datasets\n",
    "df1 = pd.read_csv('datatest1.csv')\n",
    "df2 = pd.read_csv('datatraining.csv')"
   ]
  },
  {
   "cell_type": "code",
   "execution_count": 62,
   "id": "078d97f5",
   "metadata": {},
   "outputs": [
    {
     "data": {
      "text/html": [
       "<div>\n",
       "<style scoped>\n",
       "    .dataframe tbody tr th:only-of-type {\n",
       "        vertical-align: middle;\n",
       "    }\n",
       "\n",
       "    .dataframe tbody tr th {\n",
       "        vertical-align: top;\n",
       "    }\n",
       "\n",
       "    .dataframe thead th {\n",
       "        text-align: right;\n",
       "    }\n",
       "</style>\n",
       "<table border=\"1\" class=\"dataframe\">\n",
       "  <thead>\n",
       "    <tr style=\"text-align: right;\">\n",
       "      <th></th>\n",
       "      <th>date</th>\n",
       "      <th>Temperature</th>\n",
       "      <th>Humidity</th>\n",
       "      <th>Light</th>\n",
       "      <th>CO2</th>\n",
       "      <th>HumidityRatio</th>\n",
       "      <th>Occupancy</th>\n",
       "    </tr>\n",
       "  </thead>\n",
       "  <tbody>\n",
       "    <tr>\n",
       "      <th>140</th>\n",
       "      <td>2015-02-02 14:19:00</td>\n",
       "      <td>23.7000</td>\n",
       "      <td>26.2720</td>\n",
       "      <td>585.200000</td>\n",
       "      <td>749.200000</td>\n",
       "      <td>0.004764</td>\n",
       "      <td>1</td>\n",
       "    </tr>\n",
       "    <tr>\n",
       "      <th>141</th>\n",
       "      <td>2015-02-02 14:19:59</td>\n",
       "      <td>23.7180</td>\n",
       "      <td>26.2900</td>\n",
       "      <td>578.400000</td>\n",
       "      <td>760.400000</td>\n",
       "      <td>0.004773</td>\n",
       "      <td>1</td>\n",
       "    </tr>\n",
       "    <tr>\n",
       "      <th>142</th>\n",
       "      <td>2015-02-02 14:21:00</td>\n",
       "      <td>23.7300</td>\n",
       "      <td>26.2300</td>\n",
       "      <td>572.666667</td>\n",
       "      <td>769.666667</td>\n",
       "      <td>0.004765</td>\n",
       "      <td>1</td>\n",
       "    </tr>\n",
       "    <tr>\n",
       "      <th>143</th>\n",
       "      <td>2015-02-02 14:22:00</td>\n",
       "      <td>23.7225</td>\n",
       "      <td>26.1250</td>\n",
       "      <td>493.750000</td>\n",
       "      <td>774.750000</td>\n",
       "      <td>0.004744</td>\n",
       "      <td>1</td>\n",
       "    </tr>\n",
       "    <tr>\n",
       "      <th>144</th>\n",
       "      <td>2015-02-02 14:23:00</td>\n",
       "      <td>23.7540</td>\n",
       "      <td>26.2000</td>\n",
       "      <td>488.600000</td>\n",
       "      <td>779.000000</td>\n",
       "      <td>0.004767</td>\n",
       "      <td>1</td>\n",
       "    </tr>\n",
       "    <tr>\n",
       "      <th>...</th>\n",
       "      <td>...</td>\n",
       "      <td>...</td>\n",
       "      <td>...</td>\n",
       "      <td>...</td>\n",
       "      <td>...</td>\n",
       "      <td>...</td>\n",
       "      <td>...</td>\n",
       "    </tr>\n",
       "    <tr>\n",
       "      <th>8139</th>\n",
       "      <td>2015-02-10 09:29:00</td>\n",
       "      <td>21.0500</td>\n",
       "      <td>36.0975</td>\n",
       "      <td>433.000000</td>\n",
       "      <td>787.250000</td>\n",
       "      <td>0.005579</td>\n",
       "      <td>1</td>\n",
       "    </tr>\n",
       "    <tr>\n",
       "      <th>8140</th>\n",
       "      <td>2015-02-10 09:29:59</td>\n",
       "      <td>21.0500</td>\n",
       "      <td>35.9950</td>\n",
       "      <td>433.000000</td>\n",
       "      <td>789.500000</td>\n",
       "      <td>0.005563</td>\n",
       "      <td>1</td>\n",
       "    </tr>\n",
       "    <tr>\n",
       "      <th>8141</th>\n",
       "      <td>2015-02-10 09:30:59</td>\n",
       "      <td>21.1000</td>\n",
       "      <td>36.0950</td>\n",
       "      <td>433.000000</td>\n",
       "      <td>798.500000</td>\n",
       "      <td>0.005596</td>\n",
       "      <td>1</td>\n",
       "    </tr>\n",
       "    <tr>\n",
       "      <th>8142</th>\n",
       "      <td>2015-02-10 09:32:00</td>\n",
       "      <td>21.1000</td>\n",
       "      <td>36.2600</td>\n",
       "      <td>433.000000</td>\n",
       "      <td>820.333333</td>\n",
       "      <td>0.005621</td>\n",
       "      <td>1</td>\n",
       "    </tr>\n",
       "    <tr>\n",
       "      <th>8143</th>\n",
       "      <td>2015-02-10 09:33:00</td>\n",
       "      <td>21.1000</td>\n",
       "      <td>36.2000</td>\n",
       "      <td>447.000000</td>\n",
       "      <td>821.000000</td>\n",
       "      <td>0.005612</td>\n",
       "      <td>1</td>\n",
       "    </tr>\n",
       "  </tbody>\n",
       "</table>\n",
       "<p>10808 rows × 7 columns</p>\n",
       "</div>"
      ],
      "text/plain": [
       "                     date  Temperature  Humidity       Light         CO2  \\\n",
       "140   2015-02-02 14:19:00      23.7000   26.2720  585.200000  749.200000   \n",
       "141   2015-02-02 14:19:59      23.7180   26.2900  578.400000  760.400000   \n",
       "142   2015-02-02 14:21:00      23.7300   26.2300  572.666667  769.666667   \n",
       "143   2015-02-02 14:22:00      23.7225   26.1250  493.750000  774.750000   \n",
       "144   2015-02-02 14:23:00      23.7540   26.2000  488.600000  779.000000   \n",
       "...                   ...          ...       ...         ...         ...   \n",
       "8139  2015-02-10 09:29:00      21.0500   36.0975  433.000000  787.250000   \n",
       "8140  2015-02-10 09:29:59      21.0500   35.9950  433.000000  789.500000   \n",
       "8141  2015-02-10 09:30:59      21.1000   36.0950  433.000000  798.500000   \n",
       "8142  2015-02-10 09:32:00      21.1000   36.2600  433.000000  820.333333   \n",
       "8143  2015-02-10 09:33:00      21.1000   36.2000  447.000000  821.000000   \n",
       "\n",
       "      HumidityRatio  Occupancy  \n",
       "140        0.004764          1  \n",
       "141        0.004773          1  \n",
       "142        0.004765          1  \n",
       "143        0.004744          1  \n",
       "144        0.004767          1  \n",
       "...             ...        ...  \n",
       "8139       0.005579          1  \n",
       "8140       0.005563          1  \n",
       "8141       0.005596          1  \n",
       "8142       0.005621          1  \n",
       "8143       0.005612          1  \n",
       "\n",
       "[10808 rows x 7 columns]"
      ]
     },
     "execution_count": 62,
     "metadata": {},
     "output_type": "execute_result"
    }
   ],
   "source": [
    "room = pd.concat([df1 , df2])\n",
    "room"
   ]
  },
  {
   "cell_type": "markdown",
   "id": "29945f7f",
   "metadata": {},
   "source": [
    "  "
   ]
  },
  {
   "cell_type": "markdown",
   "id": "46e7e470",
   "metadata": {},
   "source": [
    "   "
   ]
  },
  {
   "cell_type": "markdown",
   "id": "1fc790e2",
   "metadata": {},
   "source": [
    "# Data Preprocessing"
   ]
  },
  {
   "cell_type": "code",
   "execution_count": 63,
   "id": "fdd6fb31",
   "metadata": {},
   "outputs": [
    {
     "data": {
      "text/plain": [
       "(10808, 7)"
      ]
     },
     "execution_count": 63,
     "metadata": {},
     "output_type": "execute_result"
    }
   ],
   "source": [
    "#number of rows and columns\n",
    "room.shape"
   ]
  },
  {
   "cell_type": "code",
   "execution_count": 64,
   "id": "b9991018",
   "metadata": {},
   "outputs": [
    {
     "data": {
      "text/plain": [
       "date             0\n",
       "Temperature      0\n",
       "Humidity         0\n",
       "Light            0\n",
       "CO2              0\n",
       "HumidityRatio    0\n",
       "Occupancy        0\n",
       "dtype: int64"
      ]
     },
     "execution_count": 64,
     "metadata": {},
     "output_type": "execute_result"
    }
   ],
   "source": [
    "#checking for null values\n",
    "room.isnull().sum()"
   ]
  },
  {
   "cell_type": "code",
   "execution_count": 65,
   "id": "2b0d923d",
   "metadata": {},
   "outputs": [
    {
     "data": {
      "text/plain": [
       "0"
      ]
     },
     "execution_count": 65,
     "metadata": {},
     "output_type": "execute_result"
    }
   ],
   "source": [
    "#checking for duplicate values\n",
    "room.duplicated().sum()"
   ]
  },
  {
   "cell_type": "code",
   "execution_count": 66,
   "id": "0607cf29",
   "metadata": {},
   "outputs": [],
   "source": [
    "#removing the duplicate values\n",
    "room.drop_duplicates(inplace=True)"
   ]
  },
  {
   "cell_type": "code",
   "execution_count": 67,
   "id": "480f016d",
   "metadata": {},
   "outputs": [
    {
     "data": {
      "text/plain": [
       "date              object\n",
       "Temperature      float64\n",
       "Humidity         float64\n",
       "Light            float64\n",
       "CO2              float64\n",
       "HumidityRatio    float64\n",
       "Occupancy          int64\n",
       "dtype: object"
      ]
     },
     "execution_count": 67,
     "metadata": {},
     "output_type": "execute_result"
    }
   ],
   "source": [
    "#checking data types\n",
    "room.dtypes"
   ]
  },
  {
   "cell_type": "code",
   "execution_count": 68,
   "id": "780dddae",
   "metadata": {},
   "outputs": [],
   "source": [
    "#converting the date and time to datetime format\n",
    "room['date'] = pd.to_datetime(room['date'])"
   ]
  },
  {
   "cell_type": "code",
   "execution_count": 69,
   "id": "5dd35c98",
   "metadata": {},
   "outputs": [
    {
     "data": {
      "text/plain": [
       "date             datetime64[ns]\n",
       "Temperature             float64\n",
       "Humidity                float64\n",
       "Light                   float64\n",
       "CO2                     float64\n",
       "HumidityRatio           float64\n",
       "Occupancy                 int64\n",
       "dtype: object"
      ]
     },
     "execution_count": 69,
     "metadata": {},
     "output_type": "execute_result"
    }
   ],
   "source": [
    "room.dtypes"
   ]
  },
  {
   "cell_type": "code",
   "execution_count": 70,
   "id": "a2db2a49",
   "metadata": {},
   "outputs": [
    {
     "data": {
      "text/html": [
       "<div>\n",
       "<style scoped>\n",
       "    .dataframe tbody tr th:only-of-type {\n",
       "        vertical-align: middle;\n",
       "    }\n",
       "\n",
       "    .dataframe tbody tr th {\n",
       "        vertical-align: top;\n",
       "    }\n",
       "\n",
       "    .dataframe thead th {\n",
       "        text-align: right;\n",
       "    }\n",
       "</style>\n",
       "<table border=\"1\" class=\"dataframe\">\n",
       "  <thead>\n",
       "    <tr style=\"text-align: right;\">\n",
       "      <th></th>\n",
       "      <th>Temperature</th>\n",
       "      <th>Humidity</th>\n",
       "      <th>Light</th>\n",
       "      <th>CO2</th>\n",
       "      <th>HumidityRatio</th>\n",
       "      <th>Occupancy</th>\n",
       "    </tr>\n",
       "  </thead>\n",
       "  <tbody>\n",
       "    <tr>\n",
       "      <th>count</th>\n",
       "      <td>10808.000000</td>\n",
       "      <td>10808.000000</td>\n",
       "      <td>10808.000000</td>\n",
       "      <td>10808.00000</td>\n",
       "      <td>10808.000000</td>\n",
       "      <td>10808.000000</td>\n",
       "    </tr>\n",
       "    <tr>\n",
       "      <th>mean</th>\n",
       "      <td>20.819992</td>\n",
       "      <td>25.638407</td>\n",
       "      <td>137.694088</td>\n",
       "      <td>634.00507</td>\n",
       "      <td>0.003903</td>\n",
       "      <td>0.249907</td>\n",
       "    </tr>\n",
       "    <tr>\n",
       "      <th>std</th>\n",
       "      <td>1.078410</td>\n",
       "      <td>4.953792</td>\n",
       "      <td>212.175483</td>\n",
       "      <td>312.81727</td>\n",
       "      <td>0.000803</td>\n",
       "      <td>0.432979</td>\n",
       "    </tr>\n",
       "    <tr>\n",
       "      <th>min</th>\n",
       "      <td>19.000000</td>\n",
       "      <td>16.745000</td>\n",
       "      <td>0.000000</td>\n",
       "      <td>412.75000</td>\n",
       "      <td>0.002674</td>\n",
       "      <td>0.000000</td>\n",
       "    </tr>\n",
       "    <tr>\n",
       "      <th>25%</th>\n",
       "      <td>20.000000</td>\n",
       "      <td>21.390000</td>\n",
       "      <td>0.000000</td>\n",
       "      <td>441.00000</td>\n",
       "      <td>0.003323</td>\n",
       "      <td>0.000000</td>\n",
       "    </tr>\n",
       "    <tr>\n",
       "      <th>50%</th>\n",
       "      <td>20.700000</td>\n",
       "      <td>25.680000</td>\n",
       "      <td>0.000000</td>\n",
       "      <td>464.00000</td>\n",
       "      <td>0.003805</td>\n",
       "      <td>0.000000</td>\n",
       "    </tr>\n",
       "    <tr>\n",
       "      <th>75%</th>\n",
       "      <td>21.500000</td>\n",
       "      <td>28.324167</td>\n",
       "      <td>413.541667</td>\n",
       "      <td>761.00000</td>\n",
       "      <td>0.004372</td>\n",
       "      <td>0.000000</td>\n",
       "    </tr>\n",
       "    <tr>\n",
       "      <th>max</th>\n",
       "      <td>24.408333</td>\n",
       "      <td>39.117500</td>\n",
       "      <td>1697.250000</td>\n",
       "      <td>2028.50000</td>\n",
       "      <td>0.006476</td>\n",
       "      <td>1.000000</td>\n",
       "    </tr>\n",
       "  </tbody>\n",
       "</table>\n",
       "</div>"
      ],
      "text/plain": [
       "        Temperature      Humidity         Light          CO2  HumidityRatio  \\\n",
       "count  10808.000000  10808.000000  10808.000000  10808.00000   10808.000000   \n",
       "mean      20.819992     25.638407    137.694088    634.00507       0.003903   \n",
       "std        1.078410      4.953792    212.175483    312.81727       0.000803   \n",
       "min       19.000000     16.745000      0.000000    412.75000       0.002674   \n",
       "25%       20.000000     21.390000      0.000000    441.00000       0.003323   \n",
       "50%       20.700000     25.680000      0.000000    464.00000       0.003805   \n",
       "75%       21.500000     28.324167    413.541667    761.00000       0.004372   \n",
       "max       24.408333     39.117500   1697.250000   2028.50000       0.006476   \n",
       "\n",
       "          Occupancy  \n",
       "count  10808.000000  \n",
       "mean       0.249907  \n",
       "std        0.432979  \n",
       "min        0.000000  \n",
       "25%        0.000000  \n",
       "50%        0.000000  \n",
       "75%        0.000000  \n",
       "max        1.000000  "
      ]
     },
     "execution_count": 70,
     "metadata": {},
     "output_type": "execute_result"
    }
   ],
   "source": [
    "#checking the descriptive statistics\n",
    "room.describe()"
   ]
  },
  {
   "cell_type": "code",
   "execution_count": 71,
   "id": "a29c77c2",
   "metadata": {},
   "outputs": [
    {
     "data": {
      "text/plain": [
       "0    8107\n",
       "1    2701\n",
       "Name: Occupancy, dtype: int64"
      ]
     },
     "execution_count": 71,
     "metadata": {},
     "output_type": "execute_result"
    }
   ],
   "source": [
    "#value counts for the target variable i.e. occupancy\n",
    "room['Occupancy'].value_counts()"
   ]
  },
  {
   "cell_type": "markdown",
   "id": "fa90f9e9",
   "metadata": {},
   "source": [
    "    "
   ]
  },
  {
   "cell_type": "markdown",
   "id": "bb9c9fa8",
   "metadata": {},
   "source": [
    "# Correlation between the variables"
   ]
  },
  {
   "cell_type": "markdown",
   "id": "bea176e0",
   "metadata": {},
   "source": [
    "## Correlation Heatmap"
   ]
  },
  {
   "cell_type": "code",
   "execution_count": 72,
   "id": "611f06e6",
   "metadata": {},
   "outputs": [
    {
     "data": {
      "image/png": "[encoded data removed]",
      "text/plain": [
       "<Figure size 2000x1000 with 2 Axes>"
      ]
     },
     "metadata": {},
     "output_type": "display_data"
    }
   ],
   "source": [
    "# Correlation Heatmap\n",
    "plt.figure(figsize = (20,10))\n",
    "sns.heatmap(room.corr(),annot = True)\n",
    "plt.show()"
   ]
  },
  {
   "cell_type": "raw",
   "id": "fa6b3a49",
   "metadata": {},
   "source": [
    "There is a strong coorelation between light and occupancy as well as between humidity and humidity ratio. The co2 levels and temperature also shows a strong correlation with the occupancy. However the humidity and humidity ratio has very less correlation with the occupancy."
   ]
  },
  {
   "cell_type": "markdown",
   "id": "6fdb0cd4",
   "metadata": {},
   "source": [
    "## Temperature and Occupancy"
   ]
  },
  {
   "cell_type": "code",
   "execution_count": 73,
   "id": "9819d65a",
   "metadata": {},
   "outputs": [
    {
     "data": {
      "image/png": "[encoded data removed]",
      "text/plain": [
       "<Figure size 640x480 with 1 Axes>"
      ]
     },
     "metadata": {},
     "output_type": "display_data"
    }
   ],
   "source": [
    "# Violineplot for Temperature\n",
    "\n",
    "sns.violinplot(y = room['Temperature'], x = room['Occupancy'])\n",
    "plt.xlabel('Occupancy')\n",
    "plt.ylabel('Temperature')\n",
    "plt.show()"
   ]
  },
  {
   "cell_type": "raw",
   "id": "f1ba251f",
   "metadata": {},
   "source": [
    "The temperature and occupancy graph shows that the temperature of the room increases when there is a person in the room. This is because of the heat emitted by the human body. The temperature of the room decreases when there is no person in the room. This proves the hypothesis regarding the peaks in the temperature graph."
   ]
  },
  {
   "cell_type": "markdown",
   "id": "3cdec23e",
   "metadata": {},
   "source": [
    "## Light and Occupancy"
   ]
  },
  {
   "cell_type": "code",
   "execution_count": 74,
   "id": "3fa3b161",
   "metadata": {},
   "outputs": [
    {
     "data": {
      "image/png": "[encoded data removed]",
      "text/plain": [
       "<Figure size 640x480 with 1 Axes>"
      ]
     },
     "metadata": {},
     "output_type": "display_data"
    }
   ],
   "source": [
    "# Boxplot for Light\n",
    "\n",
    "sns.boxplot(y = room['Light'], x = room['Occupancy'])\n",
    "plt.xlabel('Occupancy')\n",
    "plt.ylabel('Light')\n",
    "plt.show()"
   ]
  },
  {
   "cell_type": "raw",
   "id": "7741ed31",
   "metadata": {},
   "source": [
    "The light intensity of the room increases when there is a person in the room. This is because the lights are turned on when there is a person in the room. The light intensity of the room decreases when there is no person in the room. This proves the hypothesis regarding the peaks in the light graph. The outliers in the boxplot and the curves in the ligh graph might be due to sunlight entering the room."
   ]
  },
  {
   "cell_type": "markdown",
   "id": "bd0e570b",
   "metadata": {},
   "source": [
    "## CO2 and Occupancy"
   ]
  },
  {
   "cell_type": "code",
   "execution_count": 75,
   "id": "1362dfea",
   "metadata": {},
   "outputs": [
    {
     "data": {
      "image/png": "[encoded data removed]",
      "text/plain": [
       "<Figure size 640x480 with 1 Axes>"
      ]
     },
     "metadata": {},
     "output_type": "display_data"
    }
   ],
   "source": [
    "#violinlot for co2\n",
    "sns.violinplot(y = room['CO2'],x = room['Occupancy'])\n",
    "plt.xlabel('Occupancy')\n",
    "plt.ylabel('CO2')\n",
    "plt.show()"
   ]
  },
  {
   "cell_type": "raw",
   "id": "3233f3ae",
   "metadata": {},
   "source": [
    "The CO2 levels of the room increases when there is a person in the room. This is because of the CO2 emitted by the human body. The CO2 levels of the room decreases when there is no person in the room. This proves the hypothesis regarding the peaks in the CO2 graph.\n",
    "\n",
    "From the above EDA, it is quite clear that the temperature, light and CO2 levels of the room are a good indicator of the occupancy of the room. Therefore we will be using these three variables for our classification model."
   ]
  },
  {
   "cell_type": "markdown",
   "id": "f7c185f6",
   "metadata": {},
   "source": [
    "# Data Preprocessing 2"
   ]
  },
  {
   "cell_type": "code",
   "execution_count": 76,
   "id": "28cb8bc6",
   "metadata": {},
   "outputs": [],
   "source": [
    "#dropping columns humidity, date and humidity ratio\n",
    "room.drop(['Humidity','date','HumidityRatio'],axis=1,inplace=True)"
   ]
  },
  {
   "cell_type": "code",
   "execution_count": 77,
   "id": "ebdf890b",
   "metadata": {},
   "outputs": [
    {
     "data": {
      "text/html": [
       "<div>\n",
       "<style scoped>\n",
       "    .dataframe tbody tr th:only-of-type {\n",
       "        vertical-align: middle;\n",
       "    }\n",
       "\n",
       "    .dataframe tbody tr th {\n",
       "        vertical-align: top;\n",
       "    }\n",
       "\n",
       "    .dataframe thead th {\n",
       "        text-align: right;\n",
       "    }\n",
       "</style>\n",
       "<table border=\"1\" class=\"dataframe\">\n",
       "  <thead>\n",
       "    <tr style=\"text-align: right;\">\n",
       "      <th></th>\n",
       "      <th>Temperature</th>\n",
       "      <th>Light</th>\n",
       "      <th>CO2</th>\n",
       "      <th>Occupancy</th>\n",
       "    </tr>\n",
       "  </thead>\n",
       "  <tbody>\n",
       "    <tr>\n",
       "      <th>140</th>\n",
       "      <td>23.7000</td>\n",
       "      <td>585.200000</td>\n",
       "      <td>749.200000</td>\n",
       "      <td>1</td>\n",
       "    </tr>\n",
       "    <tr>\n",
       "      <th>141</th>\n",
       "      <td>23.7180</td>\n",
       "      <td>578.400000</td>\n",
       "      <td>760.400000</td>\n",
       "      <td>1</td>\n",
       "    </tr>\n",
       "    <tr>\n",
       "      <th>142</th>\n",
       "      <td>23.7300</td>\n",
       "      <td>572.666667</td>\n",
       "      <td>769.666667</td>\n",
       "      <td>1</td>\n",
       "    </tr>\n",
       "    <tr>\n",
       "      <th>143</th>\n",
       "      <td>23.7225</td>\n",
       "      <td>493.750000</td>\n",
       "      <td>774.750000</td>\n",
       "      <td>1</td>\n",
       "    </tr>\n",
       "    <tr>\n",
       "      <th>144</th>\n",
       "      <td>23.7540</td>\n",
       "      <td>488.600000</td>\n",
       "      <td>779.000000</td>\n",
       "      <td>1</td>\n",
       "    </tr>\n",
       "    <tr>\n",
       "      <th>145</th>\n",
       "      <td>23.7600</td>\n",
       "      <td>568.666667</td>\n",
       "      <td>790.000000</td>\n",
       "      <td>1</td>\n",
       "    </tr>\n",
       "    <tr>\n",
       "      <th>146</th>\n",
       "      <td>23.7300</td>\n",
       "      <td>536.333333</td>\n",
       "      <td>798.000000</td>\n",
       "      <td>1</td>\n",
       "    </tr>\n",
       "    <tr>\n",
       "      <th>147</th>\n",
       "      <td>23.7540</td>\n",
       "      <td>509.000000</td>\n",
       "      <td>797.000000</td>\n",
       "      <td>1</td>\n",
       "    </tr>\n",
       "    <tr>\n",
       "      <th>148</th>\n",
       "      <td>23.7540</td>\n",
       "      <td>476.000000</td>\n",
       "      <td>803.200000</td>\n",
       "      <td>1</td>\n",
       "    </tr>\n",
       "    <tr>\n",
       "      <th>149</th>\n",
       "      <td>23.7360</td>\n",
       "      <td>510.000000</td>\n",
       "      <td>809.000000</td>\n",
       "      <td>1</td>\n",
       "    </tr>\n",
       "  </tbody>\n",
       "</table>\n",
       "</div>"
      ],
      "text/plain": [
       "     Temperature       Light         CO2  Occupancy\n",
       "140      23.7000  585.200000  749.200000          1\n",
       "141      23.7180  578.400000  760.400000          1\n",
       "142      23.7300  572.666667  769.666667          1\n",
       "143      23.7225  493.750000  774.750000          1\n",
       "144      23.7540  488.600000  779.000000          1\n",
       "145      23.7600  568.666667  790.000000          1\n",
       "146      23.7300  536.333333  798.000000          1\n",
       "147      23.7540  509.000000  797.000000          1\n",
       "148      23.7540  476.000000  803.200000          1\n",
       "149      23.7360  510.000000  809.000000          1"
      ]
     },
     "execution_count": 77,
     "metadata": {},
     "output_type": "execute_result"
    }
   ],
   "source": [
    "room.head(10)"
   ]
  },
  {
   "cell_type": "markdown",
   "id": "53ec359c",
   "metadata": {},
   "source": [
    "### Train Test Split"
   ]
  },
  {
   "cell_type": "code",
   "execution_count": 78,
   "id": "9cd99141",
   "metadata": {},
   "outputs": [],
   "source": [
    "from sklearn.model_selection import train_test_split"
   ]
  },
  {
   "cell_type": "code",
   "execution_count": 79,
   "id": "f8647bec",
   "metadata": {},
   "outputs": [],
   "source": [
    "x_train, x_test, y_train, y_test = train_test_split(room.drop(['Occupancy'],axis=1),room['Occupancy'],test_size=0.2,random_state=42)"
   ]
  },
  {
   "cell_type": "markdown",
   "id": "c5c1cdcd",
   "metadata": {},
   "source": [
    "### Model Building"
   ]
  },
  {
   "cell_type": "markdown",
   "id": "8be622d0",
   "metadata": {},
   "source": [
    "#### Random Tree Classifier"
   ]
  },
  {
   "cell_type": "code",
   "execution_count": 80,
   "id": "1ef0a768",
   "metadata": {},
   "outputs": [],
   "source": [
    "from sklearn.ensemble import RandomForestClassifier"
   ]
  },
  {
   "cell_type": "code",
   "execution_count": 81,
   "id": "71f5e72a",
   "metadata": {},
   "outputs": [
    {
     "data": {
      "text/plain": [
       "RandomForestClassifier()"
      ]
     },
     "execution_count": 81,
     "metadata": {},
     "output_type": "execute_result"
    }
   ],
   "source": [
    "rfc = RandomForestClassifier()\n",
    "rfc"
   ]
  },
  {
   "cell_type": "code",
   "execution_count": 82,
   "id": "fcba4b7d",
   "metadata": {},
   "outputs": [
    {
     "data": {
      "text/plain": [
       "1.0"
      ]
     },
     "execution_count": 82,
     "metadata": {},
     "output_type": "execute_result"
    }
   ],
   "source": [
    "#training the model\n",
    "rfc.fit(x_train,y_train)\n",
    "#training accuracy\n",
    "rfc.score(x_train,y_train)"
   ]
  },
  {
   "cell_type": "markdown",
   "id": "e438e9be",
   "metadata": {},
   "source": [
    "## Model Evaluation"
   ]
  },
  {
   "cell_type": "code",
   "execution_count": 83,
   "id": "d5be9e92",
   "metadata": {},
   "outputs": [],
   "source": [
    "rfc_pred = rfc.predict(x_test)"
   ]
  },
  {
   "cell_type": "code",
   "execution_count": 85,
   "id": "68f6c3f9",
   "metadata": {},
   "outputs": [
    {
     "data": {
      "image/png": "[encoded data removed]",
      "text/plain": [
       "<Figure size 640x480 with 2 Axes>"
      ]
     },
     "metadata": {},
     "output_type": "display_data"
    }
   ],
   "source": [
    "# Confusion metrix Heatmap.\n",
    "\n",
    "from sklearn.metrics import confusion_matrix\n",
    "sns.heatmap(confusion_matrix(y_test, rfc_pred), annot = True)\n",
    "plt.xlabel('Predicted')\n",
    "plt.ylabel('Actual')\n",
    "plt.show()"
   ]
  },
  {
   "cell_type": "code",
   "execution_count": 86,
   "id": "a4939a9f",
   "metadata": {},
   "outputs": [],
   "source": [
    "import warnings\n",
    "warnings.filterwarnings('ignore')"
   ]
  },
  {
   "cell_type": "code",
   "execution_count": 92,
   "id": "4a61d79f",
   "metadata": {},
   "outputs": [
    {
     "data": {
      "image/png": "[encoded data removed]",
      "text/plain": [
       "<Figure size 640x480 with 1 Axes>"
      ]
     },
     "metadata": {},
     "output_type": "display_data"
    }
   ],
   "source": [
    "# Distributed plot for the predicted and actual values\n",
    "\n",
    "ax = sns.distplot(y_test, hist = False, label = 'Actual', color = 'r')\n",
    "sns.distplot(rfc_pred, hist = False, label = 'Predicted', color = 'b', ax = ax)\n",
    "plt.show()"
   ]
  },
  {
   "cell_type": "raw",
   "id": "9fcb5ae8",
   "metadata": {},
   "source": [
    "The distplot function in Python is used to show actual and predicted values because it provides a visually appealing and easy-to-interpret way to compare the two distributions. The distplot function plots a kernel density estimate (KDE) line for each distribution, which is a smooth curve that represents the underlying probability density function of the data. The KDE lines can be used to identify the peaks and valleys in the distributions, as well as the overall shape of the distributions."
   ]
  },
  {
   "cell_type": "markdown",
   "id": "e961e1bf",
   "metadata": {},
   "source": [
    "     "
   ]
  },
  {
   "cell_type": "code",
   "execution_count": 94,
   "id": "d4c6925f",
   "metadata": {},
   "outputs": [
    {
     "name": "stdout",
     "output_type": "stream",
     "text": [
      "              precision    recall  f1-score   support\n",
      "\n",
      "           0       1.00      0.99      1.00      1617\n",
      "           1       0.98      0.99      0.99       545\n",
      "\n",
      "    accuracy                           0.99      2162\n",
      "   macro avg       0.99      0.99      0.99      2162\n",
      "weighted avg       0.99      0.99      0.99      2162\n",
      "\n"
     ]
    }
   ],
   "source": [
    "from sklearn.metrics import classification_report\n",
    "print(classification_report(y_test, rfc_pred))"
   ]
  },
  {
   "cell_type": "code",
   "execution_count": 95,
   "id": "d4d67c1c",
   "metadata": {},
   "outputs": [],
   "source": [
    "from sklearn.metrics import accuracy_score\n",
    "from sklearn.metrics import precision_score\n",
    "from sklearn.metrics import recall_score\n",
    "from sklearn.metrics import f1_score"
   ]
  },
  {
   "cell_type": "code",
   "execution_count": 98,
   "id": "9f6a3120",
   "metadata": {},
   "outputs": [
    {
     "name": "stdout",
     "output_type": "stream",
     "text": [
      "Accuracy Score : 0.9935245143385754\n",
      "Precision Score : 0.9818511796733213\n",
      "Recall Score : 0.9926605504587156\n",
      "F1 Score : 0.9872262773722629\n"
     ]
    }
   ],
   "source": [
    "print('Accuracy Score : ' +str(accuracy_score(y_test, rfc_pred)))\n",
    "print('Precision Score : ' +str(precision_score(y_test, rfc_pred)))\n",
    "print('Recall Score : ' +str(recall_score(y_test, rfc_pred)))\n",
    "print('F1 Score : '+str(f1_score(y_test, rfc_pred)))"
   ]
  },
  {
   "cell_type": "markdown",
   "id": "13b0913f",
   "metadata": {},
   "source": [
    "## Testing the model on new dataset"
   ]
  },
  {
   "cell_type": "code",
   "execution_count": 99,
   "id": "7792b54f",
   "metadata": {},
   "outputs": [
    {
     "data": {
      "text/html": [
       "<div>\n",
       "<style scoped>\n",
       "    .dataframe tbody tr th:only-of-type {\n",
       "        vertical-align: middle;\n",
       "    }\n",
       "\n",
       "    .dataframe tbody tr th {\n",
       "        vertical-align: top;\n",
       "    }\n",
       "\n",
       "    .dataframe thead th {\n",
       "        text-align: right;\n",
       "    }\n",
       "</style>\n",
       "<table border=\"1\" class=\"dataframe\">\n",
       "  <thead>\n",
       "    <tr style=\"text-align: right;\">\n",
       "      <th></th>\n",
       "      <th>date</th>\n",
       "      <th>Temperature</th>\n",
       "      <th>Humidity</th>\n",
       "      <th>Light</th>\n",
       "      <th>CO2</th>\n",
       "      <th>HumidityRatio</th>\n",
       "      <th>Occupancy</th>\n",
       "    </tr>\n",
       "  </thead>\n",
       "  <tbody>\n",
       "    <tr>\n",
       "      <th>1</th>\n",
       "      <td>2015-02-11 14:48:00</td>\n",
       "      <td>21.7600</td>\n",
       "      <td>31.133333</td>\n",
       "      <td>437.333333</td>\n",
       "      <td>1029.666667</td>\n",
       "      <td>0.005021</td>\n",
       "      <td>1</td>\n",
       "    </tr>\n",
       "    <tr>\n",
       "      <th>2</th>\n",
       "      <td>2015-02-11 14:49:00</td>\n",
       "      <td>21.7900</td>\n",
       "      <td>31.000000</td>\n",
       "      <td>437.333333</td>\n",
       "      <td>1000.000000</td>\n",
       "      <td>0.005009</td>\n",
       "      <td>1</td>\n",
       "    </tr>\n",
       "    <tr>\n",
       "      <th>3</th>\n",
       "      <td>2015-02-11 14:50:00</td>\n",
       "      <td>21.7675</td>\n",
       "      <td>31.122500</td>\n",
       "      <td>434.000000</td>\n",
       "      <td>1003.750000</td>\n",
       "      <td>0.005022</td>\n",
       "      <td>1</td>\n",
       "    </tr>\n",
       "    <tr>\n",
       "      <th>4</th>\n",
       "      <td>2015-02-11 14:51:00</td>\n",
       "      <td>21.7675</td>\n",
       "      <td>31.122500</td>\n",
       "      <td>439.000000</td>\n",
       "      <td>1009.500000</td>\n",
       "      <td>0.005022</td>\n",
       "      <td>1</td>\n",
       "    </tr>\n",
       "    <tr>\n",
       "      <th>5</th>\n",
       "      <td>2015-02-11 14:51:59</td>\n",
       "      <td>21.7900</td>\n",
       "      <td>31.133333</td>\n",
       "      <td>437.333333</td>\n",
       "      <td>1005.666667</td>\n",
       "      <td>0.005030</td>\n",
       "      <td>1</td>\n",
       "    </tr>\n",
       "    <tr>\n",
       "      <th>...</th>\n",
       "      <td>...</td>\n",
       "      <td>...</td>\n",
       "      <td>...</td>\n",
       "      <td>...</td>\n",
       "      <td>...</td>\n",
       "      <td>...</td>\n",
       "      <td>...</td>\n",
       "    </tr>\n",
       "    <tr>\n",
       "      <th>9748</th>\n",
       "      <td>2015-02-18 09:15:00</td>\n",
       "      <td>20.8150</td>\n",
       "      <td>27.717500</td>\n",
       "      <td>429.750000</td>\n",
       "      <td>1505.250000</td>\n",
       "      <td>0.004213</td>\n",
       "      <td>1</td>\n",
       "    </tr>\n",
       "    <tr>\n",
       "      <th>9749</th>\n",
       "      <td>2015-02-18 09:16:00</td>\n",
       "      <td>20.8650</td>\n",
       "      <td>27.745000</td>\n",
       "      <td>423.500000</td>\n",
       "      <td>1514.500000</td>\n",
       "      <td>0.004230</td>\n",
       "      <td>1</td>\n",
       "    </tr>\n",
       "    <tr>\n",
       "      <th>9750</th>\n",
       "      <td>2015-02-18 09:16:59</td>\n",
       "      <td>20.8900</td>\n",
       "      <td>27.745000</td>\n",
       "      <td>423.500000</td>\n",
       "      <td>1521.500000</td>\n",
       "      <td>0.004237</td>\n",
       "      <td>1</td>\n",
       "    </tr>\n",
       "    <tr>\n",
       "      <th>9751</th>\n",
       "      <td>2015-02-18 09:17:59</td>\n",
       "      <td>20.8900</td>\n",
       "      <td>28.022500</td>\n",
       "      <td>418.750000</td>\n",
       "      <td>1632.000000</td>\n",
       "      <td>0.004279</td>\n",
       "      <td>1</td>\n",
       "    </tr>\n",
       "    <tr>\n",
       "      <th>9752</th>\n",
       "      <td>2015-02-18 09:19:00</td>\n",
       "      <td>21.0000</td>\n",
       "      <td>28.100000</td>\n",
       "      <td>409.000000</td>\n",
       "      <td>1864.000000</td>\n",
       "      <td>0.004321</td>\n",
       "      <td>1</td>\n",
       "    </tr>\n",
       "  </tbody>\n",
       "</table>\n",
       "<p>9752 rows × 7 columns</p>\n",
       "</div>"
      ],
      "text/plain": [
       "                     date  Temperature   Humidity       Light          CO2  \\\n",
       "1     2015-02-11 14:48:00      21.7600  31.133333  437.333333  1029.666667   \n",
       "2     2015-02-11 14:49:00      21.7900  31.000000  437.333333  1000.000000   \n",
       "3     2015-02-11 14:50:00      21.7675  31.122500  434.000000  1003.750000   \n",
       "4     2015-02-11 14:51:00      21.7675  31.122500  439.000000  1009.500000   \n",
       "5     2015-02-11 14:51:59      21.7900  31.133333  437.333333  1005.666667   \n",
       "...                   ...          ...        ...         ...          ...   \n",
       "9748  2015-02-18 09:15:00      20.8150  27.717500  429.750000  1505.250000   \n",
       "9749  2015-02-18 09:16:00      20.8650  27.745000  423.500000  1514.500000   \n",
       "9750  2015-02-18 09:16:59      20.8900  27.745000  423.500000  1521.500000   \n",
       "9751  2015-02-18 09:17:59      20.8900  28.022500  418.750000  1632.000000   \n",
       "9752  2015-02-18 09:19:00      21.0000  28.100000  409.000000  1864.000000   \n",
       "\n",
       "      HumidityRatio  Occupancy  \n",
       "1          0.005021          1  \n",
       "2          0.005009          1  \n",
       "3          0.005022          1  \n",
       "4          0.005022          1  \n",
       "5          0.005030          1  \n",
       "...             ...        ...  \n",
       "9748       0.004213          1  \n",
       "9749       0.004230          1  \n",
       "9750       0.004237          1  \n",
       "9751       0.004279          1  \n",
       "9752       0.004321          1  \n",
       "\n",
       "[9752 rows x 7 columns]"
      ]
     },
     "execution_count": 99,
     "metadata": {},
     "output_type": "execute_result"
    }
   ],
   "source": [
    "room_new = pd.read_csv('datatest2.csv')\n",
    "room_new"
   ]
  },
  {
   "cell_type": "code",
   "execution_count": 100,
   "id": "e6b023eb",
   "metadata": {},
   "outputs": [],
   "source": [
    "# Dropping column humidity, date and humidity ration\n",
    "\n",
    "room_new.drop(['Humidity', 'date', 'HumidityRatio'], axis = 1, inplace = True)"
   ]
  },
  {
   "cell_type": "code",
   "execution_count": 103,
   "id": "05e25bdd",
   "metadata": {},
   "outputs": [
    {
     "data": {
      "text/html": [
       "<div>\n",
       "<style scoped>\n",
       "    .dataframe tbody tr th:only-of-type {\n",
       "        vertical-align: middle;\n",
       "    }\n",
       "\n",
       "    .dataframe tbody tr th {\n",
       "        vertical-align: top;\n",
       "    }\n",
       "\n",
       "    .dataframe thead th {\n",
       "        text-align: right;\n",
       "    }\n",
       "</style>\n",
       "<table border=\"1\" class=\"dataframe\">\n",
       "  <thead>\n",
       "    <tr style=\"text-align: right;\">\n",
       "      <th></th>\n",
       "      <th>Temperature</th>\n",
       "      <th>Light</th>\n",
       "      <th>CO2</th>\n",
       "      <th>Occupancy</th>\n",
       "    </tr>\n",
       "  </thead>\n",
       "  <tbody>\n",
       "    <tr>\n",
       "      <th>1</th>\n",
       "      <td>21.7600</td>\n",
       "      <td>437.333333</td>\n",
       "      <td>1029.666667</td>\n",
       "      <td>1</td>\n",
       "    </tr>\n",
       "    <tr>\n",
       "      <th>2</th>\n",
       "      <td>21.7900</td>\n",
       "      <td>437.333333</td>\n",
       "      <td>1000.000000</td>\n",
       "      <td>1</td>\n",
       "    </tr>\n",
       "    <tr>\n",
       "      <th>3</th>\n",
       "      <td>21.7675</td>\n",
       "      <td>434.000000</td>\n",
       "      <td>1003.750000</td>\n",
       "      <td>1</td>\n",
       "    </tr>\n",
       "    <tr>\n",
       "      <th>4</th>\n",
       "      <td>21.7675</td>\n",
       "      <td>439.000000</td>\n",
       "      <td>1009.500000</td>\n",
       "      <td>1</td>\n",
       "    </tr>\n",
       "    <tr>\n",
       "      <th>5</th>\n",
       "      <td>21.7900</td>\n",
       "      <td>437.333333</td>\n",
       "      <td>1005.666667</td>\n",
       "      <td>1</td>\n",
       "    </tr>\n",
       "  </tbody>\n",
       "</table>\n",
       "</div>"
      ],
      "text/plain": [
       "   Temperature       Light          CO2  Occupancy\n",
       "1      21.7600  437.333333  1029.666667          1\n",
       "2      21.7900  437.333333  1000.000000          1\n",
       "3      21.7675  434.000000  1003.750000          1\n",
       "4      21.7675  439.000000  1009.500000          1\n",
       "5      21.7900  437.333333  1005.666667          1"
      ]
     },
     "execution_count": 103,
     "metadata": {},
     "output_type": "execute_result"
    }
   ],
   "source": [
    "room_new.head()"
   ]
  },
  {
   "cell_type": "code",
   "execution_count": 104,
   "id": "2443da81",
   "metadata": {},
   "outputs": [],
   "source": [
    "x = room_new.drop(['Occupancy'], axis = 1)\n",
    "y = room_new['Occupancy']"
   ]
  },
  {
   "cell_type": "code",
   "execution_count": 105,
   "id": "0fb21b87",
   "metadata": {},
   "outputs": [],
   "source": [
    "#predicting the values\n",
    "pred = rfc.predict(x)"
   ]
  },
  {
   "cell_type": "code",
   "execution_count": 106,
   "id": "06408cdd",
   "metadata": {},
   "outputs": [
    {
     "data": {
      "image/png": "[encoded data removed]",
      "text/plain": [
       "<Figure size 640x480 with 2 Axes>"
      ]
     },
     "metadata": {},
     "output_type": "display_data"
    }
   ],
   "source": [
    "# Confusion matrix Heatmap\n",
    "\n",
    "sns.heatmap(confusion_matrix(y,pred), annot = True)\n",
    "plt.xlabel('Predicted')\n",
    "plt.ylabel('Actual')\n",
    "plt.show()"
   ]
  },
  {
   "cell_type": "raw",
   "id": "d4fddad2",
   "metadata": {},
   "source": [
    "A heatmap is a graphical representation of a matrix, where the values in the matrix are represented by colors. The colors are typically chosen to represent different levels of intensity, with darker colors representing higher values.\n",
    "\n",
    "When a confusion matrix is visualized as a heatmap, it is easy to identify which classes are being predicted correctly and incorrectly. The darker colors in the heatmap indicate the classes that are being predicted incorrectly most often."
   ]
  },
  {
   "cell_type": "code",
   "execution_count": 108,
   "id": "20dbd0e2",
   "metadata": {},
   "outputs": [
    {
     "data": {
      "image/png": "[encoded data removed]",
      "text/plain": [
       "<Figure size 640x480 with 1 Axes>"
      ]
     },
     "metadata": {},
     "output_type": "display_data"
    }
   ],
   "source": [
    "# Distribution Plot for the Predicted and an Actual Values:\n",
    "\n",
    "ax = sns.distplot(y, hist = False, label = 'Actual', color = 'r')\n",
    "sns.distplot(pred, hist = False, label = 'Predicted', color = 'b')\n",
    "plt.show()"
   ]
  },
  {
   "cell_type": "code",
   "execution_count": 109,
   "id": "cc4d92b3",
   "metadata": {},
   "outputs": [
    {
     "name": "stdout",
     "output_type": "stream",
     "text": [
      "              precision    recall  f1-score   support\n",
      "\n",
      "           0       1.00      0.99      0.99      7703\n",
      "           1       0.97      0.99      0.98      2049\n",
      "\n",
      "    accuracy                           0.99      9752\n",
      "   macro avg       0.98      0.99      0.99      9752\n",
      "weighted avg       0.99      0.99      0.99      9752\n",
      "\n"
     ]
    }
   ],
   "source": [
    "print(classification_report(y,pred))"
   ]
  },
  {
   "cell_type": "code",
   "execution_count": 110,
   "id": "422d0505",
   "metadata": {},
   "outputs": [
    {
     "name": "stdout",
     "output_type": "stream",
     "text": [
      "Accuracy Score : 0.9908736669401148\n",
      "Precision Score : 0.9662226450999049\n",
      "Recall Score : 0.9912152269399708\n",
      "F1 Score : 0.9785593832811372\n"
     ]
    }
   ],
   "source": [
    "print('Accuracy Score : ' + str(accuracy_score(y,pred)))\n",
    "print('Precision Score : ' + str(precision_score(y,pred)))\n",
    "print('Recall Score : ' + str(recall_score(y,pred)))\n",
    "print('F1 Score : ' + str(f1_score(y,pred)))"
   ]
  },
  {
   "cell_type": "markdown",
   "id": "d671e23b",
   "metadata": {},
   "source": [
    "# Conclusion"
   ]
  },
  {
   "cell_type": "markdown",
   "id": "0a0c85ab",
   "metadata": {},
   "source": [
    "From the above models we can see that the Random Forest Classifier has the highest accuracy score of 99%. Therefore we will be using the Random Forest Classifier for our final model. I also conclude that from the exploratory data analysis, it was found that the change in room temperature, CO levels and light intensity can be used to predict the occupancy of the room, inplace of humidity and humidity ratio."
   ]
  },
  {
   "cell_type": "code",
   "execution_count": null,
   "id": "7b7c8eed",
   "metadata": {},
   "outputs": [],
   "source": []
  }
 ],
 "metadata": {
  "kernelspec": {
   "display_name": "Python 3 (ipykernel)",
   "language": "python",
   "name": "python3"
  },
  "language_info": {
   "codemirror_mode": {
    "name": "ipython",
    "version": 3
   },
   "file_extension": ".py",
   "mimetype": "text/x-python",
   "name": "python",
   "nbconvert_exporter": "python",
   "pygments_lexer": "ipython3",
   "version": "3.9.13"
  }
 },
 "nbformat": 4,
 "nbformat_minor": 5
}
